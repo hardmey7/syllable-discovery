{
 "cells": [
  {
   "cell_type": "code",
   "execution_count": 1,
   "metadata": {},
   "outputs": [],
   "source": [
    "import pickle"
   ]
  },
  {
   "cell_type": "code",
   "execution_count": 2,
   "metadata": {},
   "outputs": [
    {
     "name": "stderr",
     "output_type": "stream",
     "text": [
      "/home/pyp/miniconda3/envs/new_tf2/lib/python3.9/site-packages/tqdm/auto.py:21: TqdmWarning: IProgress not found. Please update jupyter and ipywidgets. See https://ipywidgets.readthedocs.io/en/stable/user_install.html\n",
      "  from .autonotebook import tqdm as notebook_tqdm\n"
     ]
    }
   ],
   "source": [
    "with open(\"/data/scratch/pyp/exp_pyp/syllable_discovery/vg-hubert_3/spokencoco_minCutMerge-0.3_secPerSyllable0.2_8_mean_snapshotbest/data_dict.pkl\", \"rb\") as f:\n",
    "    data = pickle.load(f)"
   ]
  },
  {
   "cell_type": "code",
   "execution_count": 5,
   "metadata": {},
   "outputs": [
    {
     "data": {
      "text/plain": [
       "tensor([[0.0000, 0.3203],\n",
       "        [0.3203, 1.0611],\n",
       "        [1.0611, 1.1812],\n",
       "        [1.1812, 1.2813],\n",
       "        [1.2813, 1.4615],\n",
       "        [1.4615, 1.6617],\n",
       "        [1.6617, 1.7418],\n",
       "        [1.7418, 2.0421],\n",
       "        [2.0421, 2.1822],\n",
       "        [2.1822, 2.6627],\n",
       "        [2.6627, 2.7428],\n",
       "        [2.7428, 2.8429],\n",
       "        [2.8429, 3.0231],\n",
       "        [3.0231, 5.1853]])"
      ]
     },
     "execution_count": 5,
     "metadata": {},
     "output_type": "execute_result"
    }
   ],
   "source": [
    "data['wavs/train/356/m2fy31gkekkszg-31QNSG6A5RT63XZXSCH51JMYFD787P_391895_770337.wav']['boundaries']"
   ]
  },
  {
   "cell_type": "code",
   "execution_count": 6,
   "metadata": {},
   "outputs": [],
   "source": [
    "with open(\"/data/scratch/pyp/exp_pyp/more_discovery/word_unit_discovery/disc-81/spokencoco_minCutMerge-0.3_secPerSyllable0.2_8_mean_snapshotbest/data_dict.pkl\", \"rb\") as f:\n",
    "    data2 = pickle.load(f)"
   ]
  },
  {
   "cell_type": "code",
   "execution_count": 7,
   "metadata": {},
   "outputs": [
    {
     "data": {
      "text/plain": [
       "tensor([[0.0000, 0.3203],\n",
       "        [0.3203, 0.4404],\n",
       "        [0.4404, 0.7007],\n",
       "        [0.7007, 0.8609],\n",
       "        [0.8609, 1.0010],\n",
       "        [1.0010, 1.0210],\n",
       "        [1.0210, 1.1812],\n",
       "        [1.1812, 1.2413],\n",
       "        [1.2413, 1.4615],\n",
       "        [1.4615, 1.6417],\n",
       "        [1.6417, 1.7618],\n",
       "        [1.7618, 1.8819],\n",
       "        [1.8819, 2.0020],\n",
       "        [2.0020, 2.2423],\n",
       "        [2.2423, 2.6427],\n",
       "        [2.6427, 2.7228],\n",
       "        [2.7228, 2.8629],\n",
       "        [2.8629, 2.9830],\n",
       "        [2.9830, 3.2233],\n",
       "        [3.2233, 3.2633],\n",
       "        [3.2633, 3.5837],\n",
       "        [3.5837, 5.1853]])"
      ]
     },
     "execution_count": 7,
     "metadata": {},
     "output_type": "execute_result"
    }
   ],
   "source": [
    "data2['wavs/train/356/m2fy31gkekkszg-31QNSG6A5RT63XZXSCH51JMYFD787P_391895_770337.wav']['boundaries']"
   ]
  },
  {
   "cell_type": "code",
   "execution_count": null,
   "metadata": {},
   "outputs": [],
   "source": []
  }
 ],
 "metadata": {
  "kernelspec": {
   "display_name": "new_tf2",
   "language": "python",
   "name": "python3"
  },
  "language_info": {
   "codemirror_mode": {
    "name": "ipython",
    "version": 3
   },
   "file_extension": ".py",
   "mimetype": "text/x-python",
   "name": "python",
   "nbconvert_exporter": "python",
   "pygments_lexer": "ipython3",
   "version": "3.9.16"
  },
  "orig_nbformat": 4,
  "vscode": {
   "interpreter": {
    "hash": "fced12e00f49d5686c6b63115808f7ce2e688ad0c9ad7beb97b9cfa7b3b1ba84"
   }
  }
 },
 "nbformat": 4,
 "nbformat_minor": 2
}
